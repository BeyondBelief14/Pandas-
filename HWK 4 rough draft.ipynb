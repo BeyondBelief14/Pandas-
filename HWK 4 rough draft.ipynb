{
 "cells": [
  {
   "cell_type": "code",
   "execution_count": 1,
   "metadata": {},
   "outputs": [],
   "source": [
    " # Dependencies and Setup\n",
    "import pandas as pd\n",
    "import numpy as np\n",
    "\n",
    "# File to Load (Remember to Change These)\n",
    "file_data = \"Resources/purchase_data.csv\"\n",
    "\n",
    "# Read Purchasing File and store into Pandas data frame\n",
    "purchase_data = pd.read_csv(file_data)"
   ]
  },
  {
   "cell_type": "code",
   "execution_count": 2,
   "metadata": {},
   "outputs": [
    {
     "data": {
      "text/html": [
       "<div>\n",
       "<style scoped>\n",
       "    .dataframe tbody tr th:only-of-type {\n",
       "        vertical-align: middle;\n",
       "    }\n",
       "\n",
       "    .dataframe tbody tr th {\n",
       "        vertical-align: top;\n",
       "    }\n",
       "\n",
       "    .dataframe thead th {\n",
       "        text-align: right;\n",
       "    }\n",
       "</style>\n",
       "<table border=\"1\" class=\"dataframe\">\n",
       "  <thead>\n",
       "    <tr style=\"text-align: right;\">\n",
       "      <th></th>\n",
       "      <th>Total Players</th>\n",
       "    </tr>\n",
       "  </thead>\n",
       "  <tbody>\n",
       "    <tr>\n",
       "      <th>0</th>\n",
       "      <td>576</td>\n",
       "    </tr>\n",
       "  </tbody>\n",
       "</table>\n",
       "</div>"
      ],
      "text/plain": [
       "   Total Players\n",
       "0            576"
      ]
     },
     "execution_count": 2,
     "metadata": {},
     "output_type": "execute_result"
    }
   ],
   "source": [
    " #Display the total number of players\n",
    "\n",
    "total_players = len(purchase_data[\"SN\"].value_counts())\n",
    "\n",
    "player_count = pd.DataFrame({\"Total Players\":[total_players]})\n",
    "player_count\n",
    "\n",
    "    \n"
   ]
  },
  {
   "cell_type": "code",
   "execution_count": 3,
   "metadata": {},
   "outputs": [
    {
     "data": {
      "text/html": [
       "<style  type=\"text/css\" >\n",
       "</style><table id=\"T_18db56ec_9af2_11e9_9e5b_90324ba020ec\" ><thead>    <tr>        <th class=\"blank level0\" ></th>        <th class=\"col_heading level0 col0\" >Number of Unique Items</th>        <th class=\"col_heading level0 col1\" >Average Price</th>        <th class=\"col_heading level0 col2\" >Number of Purchases</th>        <th class=\"col_heading level0 col3\" >Total Revenue</th>    </tr></thead><tbody>\n",
       "                <tr>\n",
       "                        <th id=\"T_18db56ec_9af2_11e9_9e5b_90324ba020eclevel0_row0\" class=\"row_heading level0 row0\" >0</th>\n",
       "                        <td id=\"T_18db56ec_9af2_11e9_9e5b_90324ba020ecrow0_col0\" class=\"data row0 col0\" >183</td>\n",
       "                        <td id=\"T_18db56ec_9af2_11e9_9e5b_90324ba020ecrow0_col1\" class=\"data row0 col1\" >$3.05</td>\n",
       "                        <td id=\"T_18db56ec_9af2_11e9_9e5b_90324ba020ecrow0_col2\" class=\"data row0 col2\" >780</td>\n",
       "                        <td id=\"T_18db56ec_9af2_11e9_9e5b_90324ba020ecrow0_col3\" class=\"data row0 col3\" >$2,379.77</td>\n",
       "            </tr>\n",
       "    </tbody></table>"
      ],
      "text/plain": [
       "<pandas.io.formats.style.Styler at 0x1bf038667f0>"
      ]
     },
     "execution_count": 3,
     "metadata": {},
     "output_type": "execute_result"
    }
   ],
   "source": [
    "#Purchasing Analysis (Total)\n",
    "\n",
    "#Run basic calculations to obtain number of unique items, average price, etc.\n",
    "number_of_unique_items = len((purchase_data[\"Item ID\"]).unique())\n",
    "average_price = (purchase_data[\"Price\"]).mean()\n",
    "number_of_purchases = (purchase_data[\"Purchase ID\"]).count()\n",
    "total_revenue = (purchase_data[\"Price\"]).sum()\n",
    "\n",
    "#Create a summary data frame to hold the results\n",
    "summary_df = pd.DataFrame({\"Number of Unique Items\":[number_of_unique_items],\n",
    "                           \"Average Price\":[average_price], \n",
    "                           \"Number of Purchases\": [number_of_purchases], \n",
    "                           \"Total Revenue\": [total_revenue]})\n",
    "\n",
    "#Display the summary data frame & Formatting\n",
    "summary_df.style.format({'Average Price':\"${:,.2f}\",\n",
    "                         'Total Revenue': '${:,.2f}'})\n"
   ]
  },
  {
   "cell_type": "code",
   "execution_count": 4,
   "metadata": {},
   "outputs": [
    {
     "data": {
      "text/html": [
       "<style  type=\"text/css\" >\n",
       "</style><table id=\"T_18e961ba_9af2_11e9_bd3e_90324ba020ec\" ><thead>    <tr>        <th class=\"blank level0\" ></th>        <th class=\"col_heading level0 col0\" >Percentage of Players</th>        <th class=\"col_heading level0 col1\" >Total Count</th>    </tr></thead><tbody>\n",
       "                <tr>\n",
       "                        <th id=\"T_18e961ba_9af2_11e9_bd3e_90324ba020eclevel0_row0\" class=\"row_heading level0 row0\" >Male</th>\n",
       "                        <td id=\"T_18e961ba_9af2_11e9_bd3e_90324ba020ecrow0_col0\" class=\"data row0 col0\" >84.03</td>\n",
       "                        <td id=\"T_18e961ba_9af2_11e9_bd3e_90324ba020ecrow0_col1\" class=\"data row0 col1\" >484</td>\n",
       "            </tr>\n",
       "            <tr>\n",
       "                        <th id=\"T_18e961ba_9af2_11e9_bd3e_90324ba020eclevel0_row1\" class=\"row_heading level0 row1\" >Female</th>\n",
       "                        <td id=\"T_18e961ba_9af2_11e9_bd3e_90324ba020ecrow1_col0\" class=\"data row1 col0\" >14.06</td>\n",
       "                        <td id=\"T_18e961ba_9af2_11e9_bd3e_90324ba020ecrow1_col1\" class=\"data row1 col1\" >81</td>\n",
       "            </tr>\n",
       "            <tr>\n",
       "                        <th id=\"T_18e961ba_9af2_11e9_bd3e_90324ba020eclevel0_row2\" class=\"row_heading level0 row2\" >Other / Non-Disclosed</th>\n",
       "                        <td id=\"T_18e961ba_9af2_11e9_bd3e_90324ba020ecrow2_col0\" class=\"data row2 col0\" >1.91</td>\n",
       "                        <td id=\"T_18e961ba_9af2_11e9_bd3e_90324ba020ecrow2_col1\" class=\"data row2 col1\" >11</td>\n",
       "            </tr>\n",
       "    </tbody></table>"
      ],
      "text/plain": [
       "<pandas.io.formats.style.Styler at 0x1bf0459d748>"
      ]
     },
     "execution_count": 4,
     "metadata": {},
     "output_type": "execute_result"
    }
   ],
   "source": [
    "#Gender Demographics\n",
    "gender_stats = purchase_data.groupby(\"Gender\")\n",
    "total_count_gender = gender_stats.nunique()[\"SN\"]\n",
    "\n",
    "#Percentage and Count of Male Players\n",
    "percentage_of_players = total_count_gender / total_players * 100\n",
    "\n",
    "#Percentage and Count of Female Players\n",
    "gender_demographics = pd.DataFrame({\"Percentage of Players\": percentage_of_players, \"Total Count\": total_count_gender})\n",
    "\n",
    "#Percentage and Count of Other / Non-Disclosed\n",
    "gender_demographics.index.name = None\n",
    "\n",
    "#Formatting Display\n",
    "gender_demographics.sort_values([\"Total Count\"], ascending = False).style.format({\"Percentage of Players\":\"{:.2f}\"})\n",
    "\n"
   ]
  },
  {
   "cell_type": "code",
   "execution_count": 5,
   "metadata": {},
   "outputs": [
    {
     "data": {
      "text/html": [
       "<style  type=\"text/css\" >\n",
       "</style><table id=\"T_18ee3a06_9af2_11e9_9623_90324ba020ec\" ><thead>    <tr>        <th class=\"blank level0\" ></th>        <th class=\"col_heading level0 col0\" >Purchase Count</th>        <th class=\"col_heading level0 col1\" >Average Purchase Price</th>        <th class=\"col_heading level0 col2\" >Average Purchase Value</th>        <th class=\"col_heading level0 col3\" >Avg Purchase Total per Person</th>    </tr></thead><tbody>\n",
       "                <tr>\n",
       "                        <th id=\"T_18ee3a06_9af2_11e9_9623_90324ba020eclevel0_row0\" class=\"row_heading level0 row0\" >Female</th>\n",
       "                        <td id=\"T_18ee3a06_9af2_11e9_9623_90324ba020ecrow0_col0\" class=\"data row0 col0\" >113</td>\n",
       "                        <td id=\"T_18ee3a06_9af2_11e9_9623_90324ba020ecrow0_col1\" class=\"data row0 col1\" >$3.20</td>\n",
       "                        <td id=\"T_18ee3a06_9af2_11e9_9623_90324ba020ecrow0_col2\" class=\"data row0 col2\" >$361.94</td>\n",
       "                        <td id=\"T_18ee3a06_9af2_11e9_9623_90324ba020ecrow0_col3\" class=\"data row0 col3\" >$4.47</td>\n",
       "            </tr>\n",
       "            <tr>\n",
       "                        <th id=\"T_18ee3a06_9af2_11e9_9623_90324ba020eclevel0_row1\" class=\"row_heading level0 row1\" >Male</th>\n",
       "                        <td id=\"T_18ee3a06_9af2_11e9_9623_90324ba020ecrow1_col0\" class=\"data row1 col0\" >652</td>\n",
       "                        <td id=\"T_18ee3a06_9af2_11e9_9623_90324ba020ecrow1_col1\" class=\"data row1 col1\" >$3.02</td>\n",
       "                        <td id=\"T_18ee3a06_9af2_11e9_9623_90324ba020ecrow1_col2\" class=\"data row1 col2\" >$1,967.64</td>\n",
       "                        <td id=\"T_18ee3a06_9af2_11e9_9623_90324ba020ecrow1_col3\" class=\"data row1 col3\" >$4.07</td>\n",
       "            </tr>\n",
       "            <tr>\n",
       "                        <th id=\"T_18ee3a06_9af2_11e9_9623_90324ba020eclevel0_row2\" class=\"row_heading level0 row2\" >Other / Non-Disclosed</th>\n",
       "                        <td id=\"T_18ee3a06_9af2_11e9_9623_90324ba020ecrow2_col0\" class=\"data row2 col0\" >15</td>\n",
       "                        <td id=\"T_18ee3a06_9af2_11e9_9623_90324ba020ecrow2_col1\" class=\"data row2 col1\" >$3.35</td>\n",
       "                        <td id=\"T_18ee3a06_9af2_11e9_9623_90324ba020ecrow2_col2\" class=\"data row2 col2\" >$50.19</td>\n",
       "                        <td id=\"T_18ee3a06_9af2_11e9_9623_90324ba020ecrow2_col3\" class=\"data row2 col3\" >$4.56</td>\n",
       "            </tr>\n",
       "    </tbody></table>"
      ],
      "text/plain": [
       "<pandas.io.formats.style.Styler at 0x1bf045f4b00>"
      ]
     },
     "execution_count": 5,
     "metadata": {},
     "output_type": "execute_result"
    }
   ],
   "source": [
    "#Purchasing Analysis (Gender)\n",
    "#Run basic calculations to obtain purchase count, avg. purchase price, avg. purchase total per person etc. by gender\n",
    "purchase_count = gender_stats[\"Purchase ID\"].count()\n",
    "avg_purchase_total = gender_stats[\"Price\"].sum()\n",
    "avg_purchase_price = gender_stats[\"Price\"].mean()\n",
    "avg_purchase_per_person = avg_purchase_total/total_count_gender\n",
    "\n",
    "\n",
    "#Create a summary data frame to hold the results\n",
    "#Optiavg_purchase_total = gender_stats[\"Price\"].sum()onal: give the displayed data cleaner formatting\n",
    "gender_demographics = pd.DataFrame({\"Purchase Count\": purchase_count, \n",
    "                                    \"Average Purchase Price\": avg_purchase_price,\n",
    "                                    \"Average Purchase Value\":avg_purchase_total,\n",
    "                                    \"Avg Purchase Total per Person\": avg_purchase_per_person})\n",
    "\n",
    "#Display the summary data frame\n",
    "gender_demographics.style.format({\"Average Purchase Value\":\"${:,.2f}\",\n",
    "                                  \"Average Purchase Price\":\"${:,.2f}\",\n",
    "                                  \"Avg Purchase Total per Person\":\"${:,.2f}\"})\n",
    "\n"
   ]
  },
  {
   "cell_type": "code",
   "execution_count": 6,
   "metadata": {},
   "outputs": [
    {
     "data": {
      "text/html": [
       "<style  type=\"text/css\" >\n",
       "</style><table id=\"T_18f10f18_9af2_11e9_9a63_90324ba020ec\" ><thead>    <tr>        <th class=\"blank level0\" ></th>        <th class=\"col_heading level0 col0\" >Purchase Count</th>        <th class=\"col_heading level0 col1\" >Average Purchase Price</th>        <th class=\"col_heading level0 col2\" >Average Purchase Value</th>        <th class=\"col_heading level0 col3\" >Avg Purchase Total per Person</th>    </tr>    <tr>        <th class=\"index_name level0\" >Gender</th>        <th class=\"blank\" ></th>        <th class=\"blank\" ></th>        <th class=\"blank\" ></th>        <th class=\"blank\" ></th>    </tr></thead><tbody>\n",
       "                <tr>\n",
       "                        <th id=\"T_18f10f18_9af2_11e9_9a63_90324ba020eclevel0_row0\" class=\"row_heading level0 row0\" >Female</th>\n",
       "                        <td id=\"T_18f10f18_9af2_11e9_9a63_90324ba020ecrow0_col0\" class=\"data row0 col0\" >113</td>\n",
       "                        <td id=\"T_18f10f18_9af2_11e9_9a63_90324ba020ecrow0_col1\" class=\"data row0 col1\" >$3.20</td>\n",
       "                        <td id=\"T_18f10f18_9af2_11e9_9a63_90324ba020ecrow0_col2\" class=\"data row0 col2\" >$361.94</td>\n",
       "                        <td id=\"T_18f10f18_9af2_11e9_9a63_90324ba020ecrow0_col3\" class=\"data row0 col3\" >$4.47</td>\n",
       "            </tr>\n",
       "            <tr>\n",
       "                        <th id=\"T_18f10f18_9af2_11e9_9a63_90324ba020eclevel0_row1\" class=\"row_heading level0 row1\" >Male</th>\n",
       "                        <td id=\"T_18f10f18_9af2_11e9_9a63_90324ba020ecrow1_col0\" class=\"data row1 col0\" >652</td>\n",
       "                        <td id=\"T_18f10f18_9af2_11e9_9a63_90324ba020ecrow1_col1\" class=\"data row1 col1\" >$3.02</td>\n",
       "                        <td id=\"T_18f10f18_9af2_11e9_9a63_90324ba020ecrow1_col2\" class=\"data row1 col2\" >$1,967.64</td>\n",
       "                        <td id=\"T_18f10f18_9af2_11e9_9a63_90324ba020ecrow1_col3\" class=\"data row1 col3\" >$4.07</td>\n",
       "            </tr>\n",
       "            <tr>\n",
       "                        <th id=\"T_18f10f18_9af2_11e9_9a63_90324ba020eclevel0_row2\" class=\"row_heading level0 row2\" >Other / Non-Disclosed</th>\n",
       "                        <td id=\"T_18f10f18_9af2_11e9_9a63_90324ba020ecrow2_col0\" class=\"data row2 col0\" >15</td>\n",
       "                        <td id=\"T_18f10f18_9af2_11e9_9a63_90324ba020ecrow2_col1\" class=\"data row2 col1\" >$3.35</td>\n",
       "                        <td id=\"T_18f10f18_9af2_11e9_9a63_90324ba020ecrow2_col2\" class=\"data row2 col2\" >$50.19</td>\n",
       "                        <td id=\"T_18f10f18_9af2_11e9_9a63_90324ba020ecrow2_col3\" class=\"data row2 col3\" >$4.56</td>\n",
       "            </tr>\n",
       "    </tbody></table>"
      ],
      "text/plain": [
       "<pandas.io.formats.style.Styler at 0x1bf045f4c88>"
      ]
     },
     "execution_count": 6,
     "metadata": {},
     "output_type": "execute_result"
    }
   ],
   "source": [
    "#Age Demographics\n",
    "#The below each broken into bins of 4 years (i.e. <10, 10-14, 15-19, etc.)\n",
    "gender_demographics = pd.DataFrame({\"Purchase Count\": purchase_count, \n",
    "                                    \"Average Purchase Price\": avg_purchase_price,\n",
    "                                    \"Average Purchase Value\":avg_purchase_total,\n",
    "                                    \"Avg Purchase Total per Person\": avg_purchase_per_person})\n",
    "\n",
    "\n",
    "#Purchase Count\n",
    "purchase_count = gender_stats[\"Purchase ID\"].count()\n",
    "#Average Purchase Price\n",
    "avg_purchase_price = gender_stats[\"Price\"].mean()\n",
    "#Total# Purchase# Value\n",
    "avg_purchase_total = gender_stats[\"Price\"].sum()\n",
    "\n",
    "#Average Purchase Total per Person by Age Group\n",
    "avg_purchase_per_person = avg_purchase_total/total_count_gender\n",
    "gender_demographics.index.name = \"Gender\"\n",
    "\n",
    "gender_demographics.style.format({\"Average Purchase Value\":\"${:,.2f}\",\n",
    "                                  \"Average Purchase Price\":\"${:,.2f}\",\n",
    "                                  \"Avg Purchase Total per Person\":\"${:,.2f}\"})"
   ]
  },
  {
   "cell_type": "code",
   "execution_count": 7,
   "metadata": {},
   "outputs": [
    {
     "data": {
      "text/html": [
       "<style  type=\"text/css\" >\n",
       "</style><table id=\"T_18f5ff0c_9af2_11e9_90e6_90324ba020ec\" ><thead>    <tr>        <th class=\"blank level0\" ></th>        <th class=\"col_heading level0 col0\" >Purchase Count</th>        <th class=\"col_heading level0 col1\" >Average Purchase Price</th>        <th class=\"col_heading level0 col2\" >Total Purchase Value</th>    </tr>    <tr>        <th class=\"index_name level0\" >SN</th>        <th class=\"blank\" ></th>        <th class=\"blank\" ></th>        <th class=\"blank\" ></th>    </tr></thead><tbody>\n",
       "                <tr>\n",
       "                        <th id=\"T_18f5ff0c_9af2_11e9_90e6_90324ba020eclevel0_row0\" class=\"row_heading level0 row0\" >Lisosia93</th>\n",
       "                        <td id=\"T_18f5ff0c_9af2_11e9_90e6_90324ba020ecrow0_col0\" class=\"data row0 col0\" >5</td>\n",
       "                        <td id=\"T_18f5ff0c_9af2_11e9_90e6_90324ba020ecrow0_col1\" class=\"data row0 col1\" >$3.79</td>\n",
       "                        <td id=\"T_18f5ff0c_9af2_11e9_90e6_90324ba020ecrow0_col2\" class=\"data row0 col2\" >$18.96</td>\n",
       "            </tr>\n",
       "            <tr>\n",
       "                        <th id=\"T_18f5ff0c_9af2_11e9_90e6_90324ba020eclevel0_row1\" class=\"row_heading level0 row1\" >Idastidru52</th>\n",
       "                        <td id=\"T_18f5ff0c_9af2_11e9_90e6_90324ba020ecrow1_col0\" class=\"data row1 col0\" >4</td>\n",
       "                        <td id=\"T_18f5ff0c_9af2_11e9_90e6_90324ba020ecrow1_col1\" class=\"data row1 col1\" >$3.86</td>\n",
       "                        <td id=\"T_18f5ff0c_9af2_11e9_90e6_90324ba020ecrow1_col2\" class=\"data row1 col2\" >$15.45</td>\n",
       "            </tr>\n",
       "            <tr>\n",
       "                        <th id=\"T_18f5ff0c_9af2_11e9_90e6_90324ba020eclevel0_row2\" class=\"row_heading level0 row2\" >Chamjask73</th>\n",
       "                        <td id=\"T_18f5ff0c_9af2_11e9_90e6_90324ba020ecrow2_col0\" class=\"data row2 col0\" >3</td>\n",
       "                        <td id=\"T_18f5ff0c_9af2_11e9_90e6_90324ba020ecrow2_col1\" class=\"data row2 col1\" >$4.61</td>\n",
       "                        <td id=\"T_18f5ff0c_9af2_11e9_90e6_90324ba020ecrow2_col2\" class=\"data row2 col2\" >$13.83</td>\n",
       "            </tr>\n",
       "            <tr>\n",
       "                        <th id=\"T_18f5ff0c_9af2_11e9_90e6_90324ba020eclevel0_row3\" class=\"row_heading level0 row3\" >Iral74</th>\n",
       "                        <td id=\"T_18f5ff0c_9af2_11e9_90e6_90324ba020ecrow3_col0\" class=\"data row3 col0\" >4</td>\n",
       "                        <td id=\"T_18f5ff0c_9af2_11e9_90e6_90324ba020ecrow3_col1\" class=\"data row3 col1\" >$3.40</td>\n",
       "                        <td id=\"T_18f5ff0c_9af2_11e9_90e6_90324ba020ecrow3_col2\" class=\"data row3 col2\" >$13.62</td>\n",
       "            </tr>\n",
       "            <tr>\n",
       "                        <th id=\"T_18f5ff0c_9af2_11e9_90e6_90324ba020eclevel0_row4\" class=\"row_heading level0 row4\" >Iskadarya95</th>\n",
       "                        <td id=\"T_18f5ff0c_9af2_11e9_90e6_90324ba020ecrow4_col0\" class=\"data row4 col0\" >3</td>\n",
       "                        <td id=\"T_18f5ff0c_9af2_11e9_90e6_90324ba020ecrow4_col1\" class=\"data row4 col1\" >$4.37</td>\n",
       "                        <td id=\"T_18f5ff0c_9af2_11e9_90e6_90324ba020ecrow4_col2\" class=\"data row4 col2\" >$13.10</td>\n",
       "            </tr>\n",
       "    </tbody></table>"
      ],
      "text/plain": [
       "<pandas.io.formats.style.Styler at 0x1bf046090f0>"
      ]
     },
     "execution_count": 7,
     "metadata": {},
     "output_type": "execute_result"
    }
   ],
   "source": [
    "# Group purchase data by screen names\n",
    "spender_stats = purchase_data.groupby(\"SN\")\n",
    "\n",
    "# Count the total purchases by name\n",
    "purchase_count_spender = spender_stats[\"Purchase ID\"].count()\n",
    "\n",
    "# Calculate the average purchase by name \n",
    "avg_purchase_price_spender = spender_stats[\"Price\"].mean()\n",
    "\n",
    "# Calculate purchase total \n",
    "purchase_total_spender = spender_stats[\"Price\"].sum()\n",
    "\n",
    "# Create data frame with obtained values\n",
    "top_spenders = pd.DataFrame({\"Purchase Count\": purchase_count_spender,\n",
    "                             \"Average Purchase Price\": avg_purchase_price_spender,\n",
    "                             \"Total Purchase Value\":purchase_total_spender})\n",
    "\n",
    "# Sort in descending order to obtain top 5 spender names \n",
    "formatted_spenders = top_spenders.sort_values([\"Total Purchase Value\"], ascending=False).head()\n",
    "\n",
    "# Format with currency style\n",
    "formatted_spenders.style.format({\"Average Purchase Total\":\"${:,.2f}\",\n",
    "                                 \"Average Purchase Price\":\"${:,.2f}\", \n",
    "                                 \"Total Purchase Value\":\"${:,.2f}\"})\n",
    "\n"
   ]
  },
  {
   "cell_type": "code",
   "execution_count": 8,
   "metadata": {},
   "outputs": [
    {
     "data": {
      "text/html": [
       "<style  type=\"text/css\" >\n",
       "</style><table id=\"T_18fb021a_9af2_11e9_a3e9_90324ba020ec\" ><thead>    <tr>        <th class=\"blank\" ></th>        <th class=\"blank level0\" ></th>        <th class=\"col_heading level0 col0\" >Purchase Count</th>        <th class=\"col_heading level0 col1\" >Item Price</th>        <th class=\"col_heading level0 col2\" >Total Purchase Value</th>    </tr>    <tr>        <th class=\"index_name level0\" >Item ID</th>        <th class=\"index_name level1\" >Item Name</th>        <th class=\"blank\" ></th>        <th class=\"blank\" ></th>        <th class=\"blank\" ></th>    </tr></thead><tbody>\n",
       "                <tr>\n",
       "                        <th id=\"T_18fb021a_9af2_11e9_a3e9_90324ba020eclevel0_row0\" class=\"row_heading level0 row0\" >178</th>\n",
       "                        <th id=\"T_18fb021a_9af2_11e9_a3e9_90324ba020eclevel1_row0\" class=\"row_heading level1 row0\" >Oathbreaker, Last Hope of the Breaking Storm</th>\n",
       "                        <td id=\"T_18fb021a_9af2_11e9_a3e9_90324ba020ecrow0_col0\" class=\"data row0 col0\" >12</td>\n",
       "                        <td id=\"T_18fb021a_9af2_11e9_a3e9_90324ba020ecrow0_col1\" class=\"data row0 col1\" >$4.23</td>\n",
       "                        <td id=\"T_18fb021a_9af2_11e9_a3e9_90324ba020ecrow0_col2\" class=\"data row0 col2\" >$50.76</td>\n",
       "            </tr>\n",
       "            <tr>\n",
       "                        <th id=\"T_18fb021a_9af2_11e9_a3e9_90324ba020eclevel0_row1\" class=\"row_heading level0 row1\" >145</th>\n",
       "                        <th id=\"T_18fb021a_9af2_11e9_a3e9_90324ba020eclevel1_row1\" class=\"row_heading level1 row1\" >Fiery Glass Crusader</th>\n",
       "                        <td id=\"T_18fb021a_9af2_11e9_a3e9_90324ba020ecrow1_col0\" class=\"data row1 col0\" >9</td>\n",
       "                        <td id=\"T_18fb021a_9af2_11e9_a3e9_90324ba020ecrow1_col1\" class=\"data row1 col1\" >$4.58</td>\n",
       "                        <td id=\"T_18fb021a_9af2_11e9_a3e9_90324ba020ecrow1_col2\" class=\"data row1 col2\" >$41.22</td>\n",
       "            </tr>\n",
       "            <tr>\n",
       "                        <th id=\"T_18fb021a_9af2_11e9_a3e9_90324ba020eclevel0_row2\" class=\"row_heading level0 row2\" >108</th>\n",
       "                        <th id=\"T_18fb021a_9af2_11e9_a3e9_90324ba020eclevel1_row2\" class=\"row_heading level1 row2\" >Extraction, Quickblade Of Trembling Hands</th>\n",
       "                        <td id=\"T_18fb021a_9af2_11e9_a3e9_90324ba020ecrow2_col0\" class=\"data row2 col0\" >9</td>\n",
       "                        <td id=\"T_18fb021a_9af2_11e9_a3e9_90324ba020ecrow2_col1\" class=\"data row2 col1\" >$3.53</td>\n",
       "                        <td id=\"T_18fb021a_9af2_11e9_a3e9_90324ba020ecrow2_col2\" class=\"data row2 col2\" >$31.77</td>\n",
       "            </tr>\n",
       "            <tr>\n",
       "                        <th id=\"T_18fb021a_9af2_11e9_a3e9_90324ba020eclevel0_row3\" class=\"row_heading level0 row3\" >82</th>\n",
       "                        <th id=\"T_18fb021a_9af2_11e9_a3e9_90324ba020eclevel1_row3\" class=\"row_heading level1 row3\" >Nirvana</th>\n",
       "                        <td id=\"T_18fb021a_9af2_11e9_a3e9_90324ba020ecrow3_col0\" class=\"data row3 col0\" >9</td>\n",
       "                        <td id=\"T_18fb021a_9af2_11e9_a3e9_90324ba020ecrow3_col1\" class=\"data row3 col1\" >$4.90</td>\n",
       "                        <td id=\"T_18fb021a_9af2_11e9_a3e9_90324ba020ecrow3_col2\" class=\"data row3 col2\" >$44.10</td>\n",
       "            </tr>\n",
       "            <tr>\n",
       "                        <th id=\"T_18fb021a_9af2_11e9_a3e9_90324ba020eclevel0_row4\" class=\"row_heading level0 row4\" >19</th>\n",
       "                        <th id=\"T_18fb021a_9af2_11e9_a3e9_90324ba020eclevel1_row4\" class=\"row_heading level1 row4\" >Pursuit, Cudgel of Necromancy</th>\n",
       "                        <td id=\"T_18fb021a_9af2_11e9_a3e9_90324ba020ecrow4_col0\" class=\"data row4 col0\" >8</td>\n",
       "                        <td id=\"T_18fb021a_9af2_11e9_a3e9_90324ba020ecrow4_col1\" class=\"data row4 col1\" >$1.02</td>\n",
       "                        <td id=\"T_18fb021a_9af2_11e9_a3e9_90324ba020ecrow4_col2\" class=\"data row4 col2\" >$8.16</td>\n",
       "            </tr>\n",
       "    </tbody></table>"
      ],
      "text/plain": [
       "<pandas.io.formats.style.Styler at 0x1bf03866400>"
      ]
     },
     "execution_count": 8,
     "metadata": {},
     "output_type": "execute_result"
    }
   ],
   "source": [
    "#Most Popular Items\n",
    "# Create new data frame with items related information \n",
    "items = purchase_data[[\"Item ID\", \"Item Name\", \"Price\"]]\n",
    "\n",
    "# Group the item data by item id and item name \n",
    "item_stats = items.groupby([\"Item ID\",\"Item Name\"])\n",
    "\n",
    "# Count the number of times an item has been purchased \n",
    "purchase_count_item = item_stats[\"Price\"].count()\n",
    "\n",
    "# Calcualte the purchase value per item \n",
    "purchase_value = (item_stats[\"Price\"].sum()) \n",
    "\n",
    "# Find individual item price\n",
    "item_price = purchase_value/purchase_count_item\n",
    "\n",
    "# Create data frame with obtained values\n",
    "most_popular_items = pd.DataFrame({\"Purchase Count\": purchase_count_item, \n",
    "                                   \"Item Price\": item_price,\n",
    "                                   \"Total Purchase Value\":purchase_value})\n",
    "\n",
    "# Sort in descending order to obtain top spender names and provide top 5 item names\n",
    "popular_formatted = most_popular_items.sort_values([\"Purchase Count\"], ascending=False).head()\n",
    "\n",
    "# Format with currency style\n",
    "popular_formatted.style.format({\"Item Price\":\"${:,.2f}\",\n",
    "                                \"Total Purchase Value\":\"${:,.2f}\"}) \n"
   ]
  },
  {
   "cell_type": "code",
   "execution_count": 9,
   "metadata": {},
   "outputs": [
    {
     "data": {
      "text/html": [
       "<style  type=\"text/css\" >\n",
       "</style><table id=\"T_18fe9f24_9af2_11e9_a80e_90324ba020ec\" ><thead>    <tr>        <th class=\"blank\" ></th>        <th class=\"blank level0\" ></th>        <th class=\"col_heading level0 col0\" >Purchase Count</th>        <th class=\"col_heading level0 col1\" >Item Price</th>        <th class=\"col_heading level0 col2\" >Total Purchase Value</th>    </tr>    <tr>        <th class=\"index_name level0\" >Item ID</th>        <th class=\"index_name level1\" >Item Name</th>        <th class=\"blank\" ></th>        <th class=\"blank\" ></th>        <th class=\"blank\" ></th>    </tr></thead><tbody>\n",
       "                <tr>\n",
       "                        <th id=\"T_18fe9f24_9af2_11e9_a80e_90324ba020eclevel0_row0\" class=\"row_heading level0 row0\" >178</th>\n",
       "                        <th id=\"T_18fe9f24_9af2_11e9_a80e_90324ba020eclevel1_row0\" class=\"row_heading level1 row0\" >Oathbreaker, Last Hope of the Breaking Storm</th>\n",
       "                        <td id=\"T_18fe9f24_9af2_11e9_a80e_90324ba020ecrow0_col0\" class=\"data row0 col0\" >12</td>\n",
       "                        <td id=\"T_18fe9f24_9af2_11e9_a80e_90324ba020ecrow0_col1\" class=\"data row0 col1\" >$4.23</td>\n",
       "                        <td id=\"T_18fe9f24_9af2_11e9_a80e_90324ba020ecrow0_col2\" class=\"data row0 col2\" >$50.76</td>\n",
       "            </tr>\n",
       "            <tr>\n",
       "                        <th id=\"T_18fe9f24_9af2_11e9_a80e_90324ba020eclevel0_row1\" class=\"row_heading level0 row1\" >82</th>\n",
       "                        <th id=\"T_18fe9f24_9af2_11e9_a80e_90324ba020eclevel1_row1\" class=\"row_heading level1 row1\" >Nirvana</th>\n",
       "                        <td id=\"T_18fe9f24_9af2_11e9_a80e_90324ba020ecrow1_col0\" class=\"data row1 col0\" >9</td>\n",
       "                        <td id=\"T_18fe9f24_9af2_11e9_a80e_90324ba020ecrow1_col1\" class=\"data row1 col1\" >$4.90</td>\n",
       "                        <td id=\"T_18fe9f24_9af2_11e9_a80e_90324ba020ecrow1_col2\" class=\"data row1 col2\" >$44.10</td>\n",
       "            </tr>\n",
       "            <tr>\n",
       "                        <th id=\"T_18fe9f24_9af2_11e9_a80e_90324ba020eclevel0_row2\" class=\"row_heading level0 row2\" >145</th>\n",
       "                        <th id=\"T_18fe9f24_9af2_11e9_a80e_90324ba020eclevel1_row2\" class=\"row_heading level1 row2\" >Fiery Glass Crusader</th>\n",
       "                        <td id=\"T_18fe9f24_9af2_11e9_a80e_90324ba020ecrow2_col0\" class=\"data row2 col0\" >9</td>\n",
       "                        <td id=\"T_18fe9f24_9af2_11e9_a80e_90324ba020ecrow2_col1\" class=\"data row2 col1\" >$4.58</td>\n",
       "                        <td id=\"T_18fe9f24_9af2_11e9_a80e_90324ba020ecrow2_col2\" class=\"data row2 col2\" >$41.22</td>\n",
       "            </tr>\n",
       "            <tr>\n",
       "                        <th id=\"T_18fe9f24_9af2_11e9_a80e_90324ba020eclevel0_row3\" class=\"row_heading level0 row3\" >92</th>\n",
       "                        <th id=\"T_18fe9f24_9af2_11e9_a80e_90324ba020eclevel1_row3\" class=\"row_heading level1 row3\" >Final Critic</th>\n",
       "                        <td id=\"T_18fe9f24_9af2_11e9_a80e_90324ba020ecrow3_col0\" class=\"data row3 col0\" >8</td>\n",
       "                        <td id=\"T_18fe9f24_9af2_11e9_a80e_90324ba020ecrow3_col1\" class=\"data row3 col1\" >$4.88</td>\n",
       "                        <td id=\"T_18fe9f24_9af2_11e9_a80e_90324ba020ecrow3_col2\" class=\"data row3 col2\" >$39.04</td>\n",
       "            </tr>\n",
       "            <tr>\n",
       "                        <th id=\"T_18fe9f24_9af2_11e9_a80e_90324ba020eclevel0_row4\" class=\"row_heading level0 row4\" >103</th>\n",
       "                        <th id=\"T_18fe9f24_9af2_11e9_a80e_90324ba020eclevel1_row4\" class=\"row_heading level1 row4\" >Singed Scalpel</th>\n",
       "                        <td id=\"T_18fe9f24_9af2_11e9_a80e_90324ba020ecrow4_col0\" class=\"data row4 col0\" >8</td>\n",
       "                        <td id=\"T_18fe9f24_9af2_11e9_a80e_90324ba020ecrow4_col1\" class=\"data row4 col1\" >$4.35</td>\n",
       "                        <td id=\"T_18fe9f24_9af2_11e9_a80e_90324ba020ecrow4_col2\" class=\"data row4 col2\" >$34.80</td>\n",
       "            </tr>\n",
       "    </tbody></table>"
      ],
      "text/plain": [
       "<pandas.io.formats.style.Styler at 0x1bf04600470>"
      ]
     },
     "execution_count": 9,
     "metadata": {},
     "output_type": "execute_result"
    }
   ],
   "source": [
    "#Most Profitable Items\n",
    "#Sort the above table by total purchase value in descending order\n",
    "#Optional: give the displayed data cleaner formatting\n",
    "#Display a preview of the data frame\n",
    "# Take the most_popular items data frame and change the sorting to find highest total purchase value\n",
    "popular_formatted = most_popular_items.sort_values([\"Total Purchase Value\"],\n",
    "                                                   ascending=False).head()\n",
    "# Format with currency style\n",
    "popular_formatted.style.format({\"Item Price\":\"${:,.2f}\",\n",
    "                                \"Total Purchase Value\":\"${:,.2f}\"})\n",
    "\n"
   ]
  }
 ],
 "metadata": {
  "kernelspec": {
   "display_name": "Python 3",
   "language": "python",
   "name": "python3"
  },
  "language_info": {
   "codemirror_mode": {
    "name": "ipython",
    "version": 3
   },
   "file_extension": ".py",
   "mimetype": "text/x-python",
   "name": "python",
   "nbconvert_exporter": "python",
   "pygments_lexer": "ipython3",
   "version": "3.7.3"
  }
 },
 "nbformat": 4,
 "nbformat_minor": 2
}
